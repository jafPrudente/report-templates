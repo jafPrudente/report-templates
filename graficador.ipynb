{
 "cells": [
  {
   "cell_type": "code",
   "execution_count": null,
   "id": "e302087b-b646-4be8-8c40-3a353af731bb",
   "metadata": {},
   "outputs": [],
   "source": [
    "# Importar bibliotecas.\n",
    "import numpy as np\n",
    "import matplotlib.pyplot as plt\n",
    "import pandas as pd"
   ]
  },
  {
   "cell_type": "code",
   "execution_count": null,
   "id": "d7a61611-4749-4b6d-aed0-dbb113a6e25d",
   "metadata": {},
   "outputs": [],
   "source": [
    "# Leer el archivo de datos con tabuladores.\n",
    "data = pd.read_csv('./capacitancia.tsv', delimiter='\\t', header=None)\n",
    "\n",
    "# Guardar las columnas en los arreglos deseados.\n",
    "dist = data[0].values\n",
    "capa = data[1].values\n",
    "delta_dist = data[2].values\n",
    "delta_capa = data[3].values"
   ]
  },
  {
   "cell_type": "code",
   "execution_count": null,
   "id": "efd605f3-5f10-489f-ad4f-2fc573729720",
   "metadata": {},
   "outputs": [],
   "source": [
    "# Configuración para que Matplotlib use LaTeX para el texto.\n",
    "plt.rcParams.update({\n",
    "    \"text.usetex\": True,                # Habilitar LaTeX para todo el texto.\n",
    "    \"font.family\": \"serif\",             # Usar fuente serif como en documentos LaTeX.\n",
    "    \"font.serif\": [\"Computer Modern\"],  # Configurar la fuente para que coincida con LaTeX.\n",
    "    \"pdf.fonttype\": 42                  # Establecer el tipo de fuente en el PDF como Type 42 para incrustar fuentes.\n",
    "})\n",
    "\n",
    "# Definimos el ajuste a graficar.\n",
    "parametro = np.linspace(0.0008, 0.0105, 100)\n",
    "A = 0.000290823\n",
    "B = 0.0145187\n",
    "ajuste = A/parametro+B\n",
    "\n",
    "# Crear la figura y el gráfico.\n",
    "plt.errorbar(dist, capa, xerr=delta_dist, yerr=delta_capa, fmt='o', ms=1, ecolor='black', label='Capacitancia')\n",
    "plt.plot(parametro, ajuste, color='mediumorchid', linewidth=1, label=r'Ajuste $C(d) = \\frac{A}{d} + B$')\n",
    "plt.xlabel(r'Distancia entre placas [$m$]', fontsize=20)\n",
    "plt.ylabel(r'Capacitancia [$nF$]', fontsize=20)\n",
    "plt.legend(loc='upper right', prop={'size':15})\n",
    "plt.tick_params(axis='both', which='major', labelsize=15)\n",
    "\n",
    "# Guardar como PDF vectorial.\n",
    "plt.savefig('capacitancia.pdf', format='pdf', bbox_inches='tight')\n",
    "plt.show()"
   ]
  },
  {
   "cell_type": "code",
   "execution_count": null,
   "id": "8c68dd0f-04ff-433a-8516-9c5e14206bf1",
   "metadata": {},
   "outputs": [],
   "source": []
  }
 ],
 "metadata": {
  "kernelspec": {
   "display_name": "Python 3 (ipykernel)",
   "language": "python",
   "name": "python3"
  },
  "language_info": {
   "codemirror_mode": {
    "name": "ipython",
    "version": 3
   },
   "file_extension": ".py",
   "mimetype": "text/x-python",
   "name": "python",
   "nbconvert_exporter": "python",
   "pygments_lexer": "ipython3",
   "version": "3.12.7"
  }
 },
 "nbformat": 4,
 "nbformat_minor": 5
}
